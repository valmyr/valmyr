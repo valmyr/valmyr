{
  "nbformat": 4,
  "nbformat_minor": 0,
  "metadata": {
    "colab": {
      "name": "EDO y''-2xy'+y = 0.ipynb",
      "provenance": [],
      "authorship_tag": "ABX9TyMtC5CHV0lZzeCojS9gK/se",
      "include_colab_link": true
    },
    "kernelspec": {
      "name": "python3",
      "display_name": "Python 3"
    },
    "language_info": {
      "name": "python"
    }
  },
  "cells": [
    {
      "cell_type": "markdown",
      "metadata": {
        "id": "view-in-github",
        "colab_type": "text"
      },
      "source": [
        "<a href=\"https://colab.research.google.com/github/valmyr/valmyr/blob/master/EDO/EDO_y''-2xy'%2By%3D0.ipynb\" target=\"_parent\"><img src=\"https://colab.research.google.com/assets/colab-badge.svg\" alt=\"Open In Colab\"/></a>"
      ]
    },
    {
      "cell_type": "code",
      "metadata": {
        "id": "fpn6dGu8PI6d"
      },
      "source": [
        "import matplotlib.pyplot as plt\n",
        "from math import factorial, pi\n"
      ],
      "execution_count": 17,
      "outputs": []
    },
    {
      "cell_type": "code",
      "metadata": {
        "id": "YZEOUvCqPlad"
      },
      "source": [
        "#3, 7.3, 11.7.3, 15.11.7.3, ...\n",
        "def prod(n):\n",
        "\n",
        "  if n == 0:\n",
        "    return 3\n",
        "  return (3+4*n)*prod(n-1)"
      ],
      "execution_count": 70,
      "outputs": []
    },
    {
      "cell_type": "code",
      "metadata": {
        "id": "RRG3K0o1QJOn"
      },
      "source": [
        "#5, 9.5, 13.9.5, 17.13.9.5, ...\n",
        "def prod2(n):\n",
        "  if n == 0:\n",
        "    return 5\n",
        "  return (5+4*n)*prod2(n-1)\n"
      ],
      "execution_count": 71,
      "outputs": []
    },
    {
      "cell_type": "code",
      "metadata": {
        "colab": {
          "base_uri": "https://localhost:8080/"
        },
        "id": "ytIk7RH0W8xW",
        "outputId": "7dc7beea-6e5a-4f84-c36c-c484a2dda100"
      },
      "source": [
        "#test prod\n",
        "for i in range(2,10):\n",
        "  print(i-2, prod(i-2))\n",
        "print()\n",
        "for i in range(2,10):\n",
        "  print(i-2,prod2(i-2))"
      ],
      "execution_count": 88,
      "outputs": [
        {
          "output_type": "stream",
          "name": "stdout",
          "text": [
            "0 3\n",
            "1 21\n",
            "2 231\n",
            "3 3465\n",
            "4 65835\n",
            "5 1514205\n",
            "6 40883535\n",
            "7 1267389585\n",
            "\n",
            "0 5\n",
            "1 45\n",
            "2 585\n",
            "3 9945\n",
            "4 208845\n",
            "5 5221125\n",
            "6 151412625\n",
            "7 4996616625\n"
          ]
        }
      ]
    },
    {
      "cell_type": "code",
      "metadata": {
        "id": "gxcuOR31QjC3"
      },
      "source": [
        "def y1(x):\n",
        "  s = (1-pow(x,2)/2)\n",
        "  for i in range(2,40):\n",
        "    s += (pow(x,2*i)*pow(-1,i)*prod(i-2))/factorial(2*i)\n",
        "  return s"
      ],
      "execution_count": 83,
      "outputs": []
    },
    {
      "cell_type": "code",
      "metadata": {
        "id": "Tns_naVIReIg"
      },
      "source": [
        "def y2(x):\n",
        "  s = (x + pow(x,3)/6)\n",
        "  for i in range (2,40):\n",
        "    s+=(pow(x,2*i+1)*prod2(i-2))/factorial(2*i+1)\n",
        "  return s\n"
      ],
      "execution_count": 84,
      "outputs": []
    },
    {
      "cell_type": "code",
      "metadata": {
        "colab": {
          "base_uri": "https://localhost:8080/",
          "height": 284
        },
        "id": "93slvJ80SDAx",
        "outputId": "14ac3087-9f42-40f9-e92e-309004533e3c"
      },
      "source": [
        "X = []\n",
        "Y = []\n",
        "j = -2\n",
        "while(j < 2):\n",
        "  X.append(j)\n",
        "  Y.append(y2(j)+y1(j))\n",
        "  j+=0.01\n",
        "plt.plot(X,Y)"
      ],
      "execution_count": 85,
      "outputs": [
        {
          "output_type": "execute_result",
          "data": {
            "text/plain": [
              "[<matplotlib.lines.Line2D at 0x7f2d55629550>]"
            ]
          },
          "metadata": {},
          "execution_count": 85
        },
        {
          "output_type": "display_data",
          "data": {
            "image/png": "[encoded data removed]",
            "text/plain": [
              "<Figure size 432x288 with 1 Axes>"
            ]
          },
          "metadata": {
            "needs_background": "light"
          }
        }
      ]
    }
  ]
}