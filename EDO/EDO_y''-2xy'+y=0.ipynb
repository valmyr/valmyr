{
  "nbformat": 4,
  "nbformat_minor": 0,
  "metadata": {
    "colab": {
      "name": "EDO y''-2xy'+y = 0.ipynb",
      "provenance": [],
      "authorship_tag": "ABX9TyMr88fBvuVJR85L/X/v0xU5",
      "include_colab_link": true
    },
    "kernelspec": {
      "name": "python3",
      "display_name": "Python 3"
    },
    "language_info": {
      "name": "python"
    }
  },
  "cells": [
    {
      "cell_type": "markdown",
      "metadata": {
        "id": "view-in-github",
        "colab_type": "text"
      },
      "source": [
        "<a href=\"https://colab.research.google.com/github/valmyr/valmyr/blob/master/EDO/EDO_y''-2xy'%2By%3D0.ipynb\" target=\"_parent\"><img src=\"https://colab.research.google.com/assets/colab-badge.svg\" alt=\"Open In Colab\"/></a>"
      ]
    },
    {
      "cell_type": "code",
      "metadata": {
        "id": "fpn6dGu8PI6d"
      },
      "source": [
        "import matplotlib.pyplot as plt\n",
        "from math import factorial, pi\n"
      ],
      "execution_count": 17,
      "outputs": []
    },
    {
      "cell_type": "code",
      "metadata": {
        "id": "YZEOUvCqPlad"
      },
      "source": [
        "#3, 7.3, 11.7.3, 15.11.7.3, ...\n",
        "def prod(n):\n",
        "\n",
        "  if n == 0:\n",
        "    return 3\n",
        "  return (3+4*n)*prod(n-1)"
      ],
      "execution_count": 70,
      "outputs": []
    },
    {
      "cell_type": "code",
      "metadata": {
        "id": "RRG3K0o1QJOn"
      },
      "source": [
        "#5, 9.5, 13.9.5, 17.13.9.5, ...\n",
        "def prod2(n):\n",
        "  if n == 0:\n",
        "    return 5\n",
        "  return (5+4*n)*prod2(n-1)\n"
      ],
      "execution_count": 71,
      "outputs": []
    },
    {
      "cell_type": "code",
      "metadata": {
        "colab": {
          "base_uri": "https://localhost:8080/"
        },
        "id": "ytIk7RH0W8xW",
        "outputId": "1e0b1cd4-1189-4fa1-9a35-95ea9247981f"
      },
      "source": [
        "#test prod\n",
        "for i in range(2,5):\n",
        "  print(prod(i-2))\n",
        "for i in range(2,5):\n",
        "  print(prod2(i-2))"
      ],
      "execution_count": 74,
      "outputs": [
        {
          "output_type": "stream",
          "name": "stdout",
          "text": [
            "3\n",
            "21\n",
            "231\n",
            "5\n",
            "45\n",
            "585\n"
          ]
        }
      ]
    },
    {
      "cell_type": "code",
      "metadata": {
        "id": "gxcuOR31QjC3"
      },
      "source": [
        "def y1(x):\n",
        "  s = (1-pow(x,2)/2)\n",
        "  for i in range(2,40):\n",
        "    s += (pow(x,2*i)*pow(-1,i)*prod(i-2))/factorial(2*i)\n",
        "  return s"
      ],
      "execution_count": 72,
      "outputs": []
    },
    {
      "cell_type": "code",
      "metadata": {
        "id": "Tns_naVIReIg"
      },
      "source": [
        "def y2(x):\n",
        "  s = (x + pow(x,3)/6)\n",
        "  for i in range (2,40):\n",
        "    s+=(pow(x,2*i+1)*prod2(i-2))/factorial(2*i+1)\n",
        "  return s\n"
      ],
      "execution_count": 73,
      "outputs": []
    },
    {
      "cell_type": "code",
      "metadata": {
        "colab": {
          "base_uri": "https://localhost:8080/",
          "height": 293
        },
        "id": "93slvJ80SDAx",
        "outputId": "76f5a733-c86d-48d9-a515-6f41b7ce9d52"
      },
      "source": [
        "X = []\n",
        "Y = []\n",
        "j = -20\n",
        "while(j < 20):\n",
        "  X.append(j)\n",
        "  Y.append(y2(j)+y1(j))\n",
        "  j+=0.01\n",
        "plt.plot(X,Y)"
      ],
      "execution_count": 69,
      "outputs": [
        {
          "output_type": "execute_result",
          "data": {
            "text/plain": [
              "[<matplotlib.lines.Line2D at 0x7f2d55702b90>]"
            ]
          },
          "metadata": {},
          "execution_count": 69
        },
        {
          "output_type": "display_data",
          "data": {
            "image/png": "[encoded data removed]",
            "text/plain": [
              "<Figure size 432x288 with 1 Axes>"
            ]
          },
          "metadata": {
            "needs_background": "light"
          }
        }
      ]
    }
  ]
}