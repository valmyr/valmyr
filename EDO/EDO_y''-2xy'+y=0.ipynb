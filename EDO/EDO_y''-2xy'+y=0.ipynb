{
  "nbformat": 4,
  "nbformat_minor": 0,
  "metadata": {
    "colab": {
      "name": "EDO y''-2xy'+y = 0.ipynb",
      "provenance": [],
      "authorship_tag": "ABX9TyOo+VbICTyNCZYVROCEBjip",
      "include_colab_link": true
    },
    "kernelspec": {
      "name": "python3",
      "display_name": "Python 3"
    },
    "language_info": {
      "name": "python"
    }
  },
  "cells": [
    {
      "cell_type": "markdown",
      "metadata": {
        "id": "view-in-github",
        "colab_type": "text"
      },
      "source": [
        "<a href=\"https://colab.research.google.com/github/valmyr/valmyr/blob/master/EDO/EDO_y''-2xy'%2By%3D0.ipynb\" target=\"_parent\"><img src=\"https://colab.research.google.com/assets/colab-badge.svg\" alt=\"Open In Colab\"/></a>"
      ]
    },
    {
      "cell_type": "code",
      "metadata": {
        "id": "fpn6dGu8PI6d"
      },
      "source": [
        "import matplotlib.pyplot as plt\n",
        "from math import factorial, pi\n"
      ],
      "execution_count": 13,
      "outputs": []
    },
    {
      "cell_type": "code",
      "metadata": {
        "id": "YZEOUvCqPlad"
      },
      "source": [
        "#3, 7.3, 11.7.3, 15.11.7.3, ...\n",
        "def prod(n):\n",
        "\n",
        "  if n == 0:\n",
        "    return 3\n",
        "  return (3+4*n)*prod(n-1)"
      ],
      "execution_count": 30,
      "outputs": []
    },
    {
      "cell_type": "code",
      "metadata": {
        "id": "RRG3K0o1QJOn"
      },
      "source": [
        "#1, 5.1, 9.5.1, 13.9.5.1, 17.13.9.5.1, ...\n",
        "def prod2(n):\n",
        "  if n == 0:\n",
        "    return 1\n",
        "  return (1+4*n)*prod2(n-1)\n"
      ],
      "execution_count": 31,
      "outputs": []
    },
    {
      "cell_type": "code",
      "metadata": {
        "colab": {
          "base_uri": "https://localhost:8080/"
        },
        "id": "ytIk7RH0W8xW",
        "outputId": "bc7eddd9-234c-44b3-9a08-0d96d4eb3f30"
      },
      "source": [
        "#test prod\n",
        "for i in range(1,10):\n",
        "  print(i-1, prod(i-1))\n",
        "print()\n",
        "for i in range(1,10):\n",
        "  print(i-1,prod2(i-1))"
      ],
      "execution_count": 29,
      "outputs": [
        {
          "output_type": "stream",
          "name": "stdout",
          "text": [
            "0 3\n",
            "1 21\n",
            "2 231\n",
            "3 3465\n",
            "4 65835\n",
            "5 1514205\n",
            "6 40883535\n",
            "7 1267389585\n",
            "8 44358635475\n",
            "\n",
            "0 1\n",
            "1 5\n",
            "2 45\n",
            "3 585\n",
            "4 9945\n",
            "5 208845\n",
            "6 5221125\n",
            "7 151412625\n",
            "8 4996616625\n"
          ]
        }
      ]
    },
    {
      "cell_type": "code",
      "metadata": {
        "id": "gxcuOR31QjC3"
      },
      "source": [
        "def y1(x):\n",
        "  s = 1\n",
        "  k = 0\n",
        "  for i in range(1,30):\n",
        "    k += (pow(x,2*i)*prod(i-1))/factorial(2*i)\n",
        "  return s-k"
      ],
      "execution_count": 23,
      "outputs": []
    },
    {
      "cell_type": "code",
      "metadata": {
        "id": "Tns_naVIReIg"
      },
      "source": [
        "def y2(x):\n",
        "  s = (x)\n",
        "  for i in range (1,30):\n",
        "    s+=(pow(x,2*i+1)*prod2(i-1))/factorial(2*i+1)\n",
        "  return s\n"
      ],
      "execution_count": 24,
      "outputs": []
    },
    {
      "cell_type": "code",
      "metadata": {
        "colab": {
          "base_uri": "https://localhost:8080/",
          "height": 282
        },
        "id": "93slvJ80SDAx",
        "outputId": "1201272d-a46f-425a-99ea-60968a278b1b"
      },
      "source": [
        "\n",
        "X = []\n",
        "Y = []\n",
        "j = -1\n",
        "while(j < 1):\n",
        "  X.append(j)\n",
        "  Y.append(y2(j)+y1(j))\n",
        "  j+=0.01\n",
        "plt.plot(X,Y)"
      ],
      "execution_count": 34,
      "outputs": [
        {
          "output_type": "execute_result",
          "data": {
            "text/plain": [
              "[<matplotlib.lines.Line2D at 0x7f72b1f69d50>]"
            ]
          },
          "metadata": {},
          "execution_count": 34
        },
        {
          "output_type": "display_data",
          "data": {
            "image/png": "[encoded data removed]",
            "text/plain": [
              "<Figure size 432x288 with 1 Axes>"
            ]
          },
          "metadata": {
            "needs_background": "light"
          }
        }
      ]
    }
  ]
}