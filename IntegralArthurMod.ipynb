{
  "nbformat": 4,
  "nbformat_minor": 0,
  "metadata": {
    "colab": {
      "name": "IntegralArthurMod.ipynb",
      "provenance": [],
      "authorship_tag": "ABX9TyNwmK0bpDTvDzbPpXFZOIol",
      "include_colab_link": true
    },
    "kernelspec": {
      "name": "python3",
      "display_name": "Python 3"
    },
    "language_info": {
      "name": "python"
    }
  },
  "cells": [
    {
      "cell_type": "markdown",
      "metadata": {
        "id": "view-in-github",
        "colab_type": "text"
      },
      "source": [
        "<a href=\"https://colab.research.google.com/github/valmyr/valmyr/blob/master/IntegralArthurMod.ipynb\" target=\"_parent\"><img src=\"https://colab.research.google.com/assets/colab-badge.svg\" alt=\"Open In Colab\"/></a>"
      ]
    },
    {
      "cell_type": "code",
      "execution_count": 31,
      "metadata": {
        "colab": {
          "base_uri": "https://localhost:8080/"
        },
        "id": "ZANJBgzL-Par",
        "outputId": "5285c204-2690-4513-cf8e-be2e1648bbb5"
      },
      "outputs": [
        {
          "output_type": "stream",
          "name": "stdout",
          "text": [
            "-------------------Determine o valor do intervalo[a,b]---------------------\n",
            "Digite o valor de a...................................................: 2\n",
            "Digite o valor de b...................................................: 3\n",
            "Digite o valor inicial do intervalo com base no comportamento da curva: 6\n",
            "\n",
            "\n",
            "f(2.00) = 3.00\n",
            "f(2.17) = 8.68\n",
            "f(2.33) = 15.44\n",
            "f(2.50) = 23.37\n",
            "f(2.67) = 32.56\n",
            "f(2.83) = 43.07\n",
            "\n",
            " AT antes dos valores 1 e 2:  310.2499999999998\n",
            "h:  0.16666666666666666\n",
            "\n",
            " 25.854166666666647 \n",
            "\n"
          ]
        }
      ],
      "source": [
        "import math\n",
        "def function(x):\n",
        "    # return 3*math.pow(x,5)*math.cos(x)-11*math.pow(x,3)*math.exp(4*x)+15*x\n",
        "    return 3*math.pow(x, 3) - 5*x - 11\n",
        "print(\n",
        "    \"-------------------Determine o valor do intervalo[a,b]---------------------\")\n",
        "a = float(input(\n",
        "    \"Digite o valor de a...................................................: \"))\n",
        "b = float(input(\n",
        "    \"Digite o valor de b...................................................: \"))\n",
        "n = float(input(\n",
        "    \"Digite o valor inicial do intervalo com base no comportamento da curva: \"))\n",
        "print(\"\\n\")\n",
        "h = (b-a)/n  # dimensão das subdivisões do intervalo\n",
        "AT = function(a) #exclui o valor de a do I = [a,b]\n",
        "print(\"f({:.2f}) = {:.2f}\".format(a, function(a)))\n",
        "while(a <= b - h):#exclui o valor de b do I = [a,b] - > ]a,b[\n",
        "    print(\"f({:.2f}) = {:.2f}\".format(a, function(a)))\n",
        "    AT += 2*function(a)\n",
        "    a += h\n",
        "AT += function(b)#f(b)\n",
        "print(\"f({:.2f}) = {:.2f}\".format(a, function(a)))\n",
        "print(\"\\n AT antes dos valores 1 e 2: \", AT)\n",
        "print(\"h: \", h)\n",
        "AT *= (h/2)\n",
        "print(\"\\n\", AT, \"\\n\")"
      ]
    },
    {
      "cell_type": "code",
      "source": [
        "1"
      ],
      "metadata": {
        "id": "t_c7XGK0A-16"
      },
      "execution_count": null,
      "outputs": []
    }
  ]
}