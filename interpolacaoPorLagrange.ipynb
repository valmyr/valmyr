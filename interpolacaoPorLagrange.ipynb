{
  "nbformat": 4,
  "nbformat_minor": 0,
  "metadata": {
    "colab": {
      "name": "interpolacaoPorLagrange.ipynb",
      "provenance": [],
      "authorship_tag": "ABX9TyOikmtbc+4jDNSOnNkYrnqW",
      "include_colab_link": true
    },
    "kernelspec": {
      "name": "python3",
      "display_name": "Python 3"
    },
    "language_info": {
      "name": "python"
    }
  },
  "cells": [
    {
      "cell_type": "markdown",
      "metadata": {
        "id": "view-in-github",
        "colab_type": "text"
      },
      "source": [
        "<a href=\"https://colab.research.google.com/github/valmyr/valmyr/blob/master/interpolacaoPorLagrange.ipynb\" target=\"_parent\"><img src=\"https://colab.research.google.com/assets/colab-badge.svg\" alt=\"Open In Colab\"/></a>"
      ]
    },
    {
      "cell_type": "code",
      "execution_count": 200,
      "metadata": {
        "id": "1xZKxW-P3rSy"
      },
      "outputs": [],
      "source": [
        "import numpy as np\n",
        "from math import sin,cos,exp,pi\n",
        "import random as rd\n",
        "import matplotlib.pyplot as plt\n",
        "x = [1/100*i*pi for i in range(2,10,1)]\n",
        "f = lambda x: 2+x**2\n",
        "f_ = [f(x[i]) for i in range(len(x))]\n"
      ]
    },
    {
      "cell_type": "code",
      "source": [
        "def LagrangeMeth(pontos,x):\n",
        "  soma = []\n",
        "  for i in range(len(pontos)):\n",
        "    prod = 1\n",
        "    for j in range(len(pontos)):\n",
        "      if(i != j):\n",
        "        prod *= (x-pontos[j])/(pontos[i]-pontos[j])\n",
        "    if(i > 0):\n",
        "      soma.append(f(pontos[i])*prod)\n",
        "  return soma\n",
        "\n",
        "L = [LagrangeMeth(f_,x[i]) for i in range(len(f_))]"
      ],
      "metadata": {
        "id": "CTRSQbTT5LtA"
      },
      "execution_count": 201,
      "outputs": []
    },
    {
      "cell_type": "code",
      "source": [
        "L[2][0]"
      ],
      "metadata": {
        "colab": {
          "base_uri": "https://localhost:8080/"
        },
        "id": "B-sm203Z6e-w",
        "outputId": "2caf5552-8870-4c09-8fe9-e9b7d82ff177"
      },
      "execution_count": 202,
      "outputs": [
        {
          "output_type": "execute_result",
          "data": {
            "text/plain": [
              "-258963545766028.6"
            ]
          },
          "metadata": {},
          "execution_count": 202
        }
      ]
    },
    {
      "cell_type": "code",
      "source": [
        "\n",
        "len(L)\n",
        "k = []\n",
        "\n",
        "p = [sum([L[j][i] for i in range(len(L[1]))]) for j in range(len(L))]\n",
        "print(p)\n",
        "for i in range(len(L[1])):\n",
        "  s = 0\n",
        "  for j in range(len(L)):\n",
        "    s+=(L[j][i])\n",
        "  k.append(s)\n",
        "print(k)\n",
        "LaG = lambda x: sum([(x**i)*k[i] for i in range(len(k))])\n",
        "fL = [LaG(x[i]) for i in range(len(x))]"
      ],
      "metadata": {
        "colab": {
          "base_uri": "https://localhost:8080/"
        },
        "id": "dc8TYuCzP-Yl",
        "outputId": "83e36490-4690-408e-8873-98431b77415c"
      },
      "execution_count": 210,
      "outputs": [
        {
          "output_type": "stream",
          "name": "stdout",
          "text": [
            "[-92704669995624.3, -82868397730188.19, -73940582982062.17, -65850203396193.445, -58530749792653.67, -51920007566771.375, -45959845264928.51, -40596010216261.99]\n",
            "[-1794406863569791.0, 2763039358736904.5, -2469803457440763.0, 1385037416127027.8, -485582437534243.1, 98126929204573.6, -8781412468393.008]\n"
          ]
        }
      ]
    },
    {
      "cell_type": "code",
      "source": [
        "plt.plot(x,[f(x[i]) for i in range(len(x))])"
      ],
      "metadata": {
        "colab": {
          "base_uri": "https://localhost:8080/",
          "height": 284
        },
        "id": "slyUL7-PHTB5",
        "outputId": "ec8d76de-6004-4892-95d8-88ca32c1095e"
      },
      "execution_count": 204,
      "outputs": [
        {
          "output_type": "execute_result",
          "data": {
            "text/plain": [
              "[<matplotlib.lines.Line2D at 0x7fd0c4155a10>]"
            ]
          },
          "metadata": {},
          "execution_count": 204
        },
        {
          "output_type": "display_data",
          "data": {
            "text/plain": [
              "<Figure size 432x288 with 1 Axes>"
            ],
            "image/png": "[encoded data removed]"
          },
          "metadata": {
            "needs_background": "light"
          }
        }
      ]
    },
    {
      "cell_type": "code",
      "source": [
        "plt.plot(x,fL)"
      ],
      "metadata": {
        "colab": {
          "base_uri": "https://localhost:8080/",
          "height": 294
        },
        "id": "65HJRR-0H92P",
        "outputId": "e801876c-c4e7-42ae-d248-fe8218fc0e72"
      },
      "execution_count": 205,
      "outputs": [
        {
          "output_type": "execute_result",
          "data": {
            "text/plain": [
              "[<matplotlib.lines.Line2D at 0x7fd0c40b3e50>]"
            ]
          },
          "metadata": {},
          "execution_count": 205
        },
        {
          "output_type": "display_data",
          "data": {
            "text/plain": [
              "<Figure size 432x288 with 1 Axes>"
            ],
            "image/png": "[encoded data removed]"
          },
          "metadata": {
            "needs_background": "light"
          }
        }
      ]
    }
  ]
}